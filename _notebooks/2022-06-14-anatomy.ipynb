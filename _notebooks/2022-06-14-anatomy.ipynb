{
 "cells": [
  {
   "cell_type": "markdown",
   "metadata": {},
   "source": [
    "# Java Anatomy\n",
    "Progressive journey through Java anatomy using Hello, World!\n",
    "\n",
    "- categories: [unit01]"
   ]
  },
  {
   "cell_type": "markdown",
   "metadata": {},
   "source": [
    "## Hello, World!\n",
    "These examples show the basic constructs of Java (anatomy)."
   ]
  },
  {
   "cell_type": "markdown",
   "metadata": {},
   "source": [
    "### Static example\n",
    "The class HelloStatic contains the typical introduction to Java anatomy.  The public static void main(String[] args) is a default method and has a very specific definition (signature).  "
   ]
  },
  {
   "cell_type": "code",
   "execution_count": 5,
   "metadata": {},
   "outputs": [
    {
     "name": "stdout",
     "output_type": "stream",
     "text": [
      "Hello World!\n"
     ]
    }
   ],
   "source": [
    "// Define Static Method within a Class\n",
    "public class HelloStatic {\n",
    "    // Java standard runtime entry point\n",
    "    public static void main(String[] args) {    \n",
    "        System.out.println(\"Hello World!\");\n",
    "    }\n",
    "}\n",
    "// IJava only --- allows us to rexecute code without be wrapped in Class\n",
    "HelloStatic.main(null);   // Class prefix allows reference of Static Method"
   ]
  },
  {
   "cell_type": "markdown",
   "metadata": {},
   "source": [
    "### Dynamic Example\n",
    "This example start to use Java in its natural manner, now the public static void main method is used as a driver/tester.  It creates an Object from the HelloObject constructor.  Also, this contains a getter called getHello()."
   ]
  },
  {
   "cell_type": "code",
   "execution_count": 6,
   "metadata": {},
   "outputs": [
    {
     "name": "stdout",
     "output_type": "stream",
     "text": [
      "Hello, World!\n"
     ]
    }
   ],
   "source": [
    "// Define Class with Constructor returning Object\n",
    "public class HelloObject {\n",
    "    private String hello;\n",
    "    public HelloObject() {\n",
    "        hello = \"Hello, World!\";\n",
    "    }\n",
    "    public String getHello() {\n",
    "        return this.hello;\n",
    "    }\n",
    "    public static void main(String[] args) {    \n",
    "        HelloObject ho = new HelloObject(); // Instance of Class (ho) is an Object via \"new\"\n",
    "        System.out.println(ho.getHello()); // Object allows reference to public methods and data\n",
    "    }\n",
    "}\n",
    "// IJava activation\n",
    "HelloObject.main(null);"
   ]
  },
  {
   "cell_type": "markdown",
   "metadata": {},
   "source": [
    "### Dynamic Example with two constructors\n",
    "This last example add to the Java anatomy, now containing two constructors and a setter to go with the getter.  Also, observe the driver/tester now contains two objects that are intialized different and contain distinct data.  Observe usage of the this prefix and where it is used.  The this keyword helps in clarification between instance and local variable."
   ]
  },
  {
   "cell_type": "code",
   "execution_count": 7,
   "metadata": {},
   "outputs": [
    {
     "name": "stdout",
     "output_type": "stream",
     "text": [
      "Hello, World!\n",
      "Hello, Nighthawk Coding Society!\n"
     ]
    }
   ],
   "source": [
    "// Define Class with Constructor returning Object\n",
    "public class HelloDynamic {\n",
    "    private String hello;\n",
    "    // no arguement signature\n",
    "    public HelloDynamic() {\n",
    "        this.setHello(\"Hello, World!\");\n",
    "    }\n",
    "    // one argument signature\n",
    "    public HelloDynamic(String hello) {\n",
    "        this.setHello(hello);\n",
    "    }\n",
    "    // setter\n",
    "    public void setHello(String hello) {\n",
    "        this.hello = hello;\n",
    "    }\n",
    "    // getter\n",
    "    public String getHello() {\n",
    "        return this.hello;\n",
    "    }\n",
    "    public static void main(String[] args) {  \n",
    "        HelloDynamic hd1 = new HelloDynamic(); // no argument signature\n",
    "        HelloDynamic hd2 = new HelloDynamic(\"Hello, Nighthawk Coding Society!\"); // one argument signature\n",
    "        System.out.println(hd1.getHello()); \n",
    "        System.out.println(hd2.getHello()); \n",
    "    }\n",
    "}\n",
    "// IJava activation\n",
    "HelloDynamic.main(null);"
   ]
  },
  {
   "cell_type": "markdown",
   "metadata": {},
   "source": [
    "## Next steps\n",
    "1. Create your own Jupyter Notebook\n",
    "2. Establish a vocabulary of terms within your Notebook\n",
    "3. Adapt Hello, World using at least two argument constructors, consider using 0, 1, 2 argument constructors\n",
    "\n",
    "Sample adaptations: Name and Age, Household name and number of people, Class name and number of Student"
   ]
  }
 ],
 "metadata": {
  "kernelspec": {
   "display_name": "Java",
   "language": "java",
   "name": "java"
  },
  "language_info": {
   "codemirror_mode": "java",
   "file_extension": ".jshell",
   "mimetype": "text/x-java-source",
   "name": "java",
   "pygments_lexer": "java",
   "version": "17.0.3+7"
  },
  "orig_nbformat": 4
 },
 "nbformat": 4,
 "nbformat_minor": 2
}
