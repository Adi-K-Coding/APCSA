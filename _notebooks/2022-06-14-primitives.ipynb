{
 "cells": [
  {
   "cell_type": "markdown",
   "metadata": {},
   "source": [
    "# TPT Unit 01 - Primitive Data Types\n",
    "An introduction to primitive types using input, output, and a grading calculator.\n",
    "\n",
    "- categories: [units]"
   ]
  },
  {
   "cell_type": "markdown",
   "metadata": {},
   "source": [
    "## College Board Summary\n",
    "College Board focus is on primitive types of int, double, and boolean.  In unit1, String is mentioned, but it is technically a Wrapper Class.  The primitive type associated with String is the single characther char.  String is an array of char's and the uppercase S in String means it is a Class."
   ]
  },
  {
   "cell_type": "markdown",
   "metadata": {},
   "source": [
    "### Input Primitive data"
   ]
  },
  {
   "cell_type": "code",
   "execution_count": 22,
   "metadata": {},
   "outputs": [
    {
     "name": "stdout",
     "output_type": "stream",
     "text": [
      "Enter an integer: 123\n",
      "Enter a double: 3.14159\n",
      "Enter a boolean: true\n",
      "Enter a String: 🏀 Basketball\n"
     ]
    }
   ],
   "source": [
    "// java style to import library\n",
    "import java.util.Scanner;\n",
    "\n",
    "// class must alway have 1st letter as uppercase, CamelCase is Java Class convention\n",
    "public class ScanPrimitives {\n",
    "    public static void main(String[] args) {    \n",
    "        Scanner input;\n",
    "\n",
    "        // primitive int\n",
    "        input = new Scanner(System.in);\n",
    "        System.out.print(\"Enter an integer: \");\n",
    "        try {\n",
    "            int sampleInputInt = input.nextInt();\n",
    "            System.out.println(sampleInputInt);\n",
    "        } catch (Exception e) {  // if not an integer\n",
    "            System.out.println(\"Not an integer (form like 159), \" + e);\n",
    "        }\n",
    "        input.close();\n",
    "\n",
    "        // primitive double\n",
    "        input = new Scanner(System.in);\n",
    "        System.out.print(\"Enter a double: \");\n",
    "        try {\n",
    "            double sampleInputDouble = input.nextDouble();\n",
    "            System.out.println(sampleInputDouble);\n",
    "        } catch (Exception e) {  // if not a number\n",
    "            System.out.println(\"Not an double (form like 9.99), \" + e);\n",
    "        }\n",
    "        input.close();\n",
    "\n",
    "        // primitive boolean\n",
    "        input =  new Scanner(System.in);\n",
    "        System.out.print(\"Enter a boolean: \");\n",
    "        try {\n",
    "            boolean sampleInputBoolean = input.nextBoolean();\n",
    "            System.out.println(sampleInputBoolean);\n",
    "        } catch (Exception e) {  // if not true or false\n",
    "            System.out.println(\"Not an boolean (true or false), \" + e);\n",
    "        }\n",
    "        input.close();\n",
    "\n",
    "        // wrapper class String\n",
    "        input =  new Scanner(System.in);\n",
    "        System.out.print(\"Enter a String: \");\n",
    "        try {\n",
    "            String sampleInputString = input.nextLine();\n",
    "            System.out.println(sampleInputString);\n",
    "        } catch (Exception e) { // this may never happen\n",
    "            System.out.println(\"Not an String, \" + e);\n",
    "        }\n",
    "        input.close();\n",
    "    }\n",
    "}\n",
    "ScanPrimitives.main(null);"
   ]
  },
  {
   "cell_type": "markdown",
   "metadata": {},
   "source": [
    "### Output Primitive Data"
   ]
  },
  {
   "cell_type": "code",
   "execution_count": 23,
   "metadata": {},
   "outputs": [
    {
     "name": "stdout",
     "output_type": "stream",
     "text": [
      "Integer Division\n",
      "\tint output with concatenation: 7/2 = 3\n",
      "\tint output with format: 7/2 = 3\n",
      "\tint output with printf: 7/2 = 3\n",
      "Double Division\n",
      "\tdouble output with concatenation: 7.0/2.0 = 3.5\n",
      "\tdouble output with format: 7.00/2.00 = 3.50\n",
      "\tdouble output with printf: 7.00/2.00 = 3.50\n",
      "Casting and Remainders\n",
      "\tint cast to double on division: 7/2 = 3.50\n",
      "\tint using modulo for remainder: 7/2 = 3 remainder 1\n"
     ]
    }
   ],
   "source": [
    "public class PrimitiveDivision {\n",
    "    public static void main(String[] args) {\n",
    "        int i1 = 7, i2 = 2;\n",
    "        System.out.println(\"Integer Division\");\n",
    "        System.out.println(\"\\tint output with concatenation: \" + i1 + \"/\" + i2 + \" = \" + i1/i2);\n",
    "        System.out.println(String.format(\"\\tint output with format: %d/%d = %d\",i1, i2, i1/i2));\n",
    "        System.out.printf(\"\\tint output with printf: %d/%d = %d\\n\",i1, i2, i1/i2);\n",
    "\n",
    "        double d1 = 7, d2 = 2;\n",
    "        System.out.println(\"Double Division\");\n",
    "        System.out.println(\"\\tdouble output with concatenation: \" + d1 + \"/\" + d2 + \" = \" + d1/d2);\n",
    "        System.out.println(String.format(\"\\tdouble output with format: %.2f/%.2f = %.2f\",d1, d2, d1/d2));\n",
    "        System.out.printf(\"\\tdouble output with printf: %.2f/%.2f = %.2f\\n\",d1, d2, d1/d2);\n",
    "\n",
    "        System.out.println(\"Casting and Remainders\");\n",
    "        System.out.printf(\"\\tint cast to double on division: %d/%d = %.2f\\n\",i1, i2, i1/(double)i2);\n",
    "        System.out.println(\"\\tint using modulo for remainder: \" + i1 + \"/\" + i2 + \" = \" + i1/i2 + \" remainder \" + i1%i2);\n",
    "    }\n",
    "}\n",
    "PrimitiveDivision.main(null);"
   ]
  },
  {
   "cell_type": "markdown",
   "metadata": {},
   "source": [
    "### Grade Calculator, putting Input and Output together\n",
    "Primitive types rarley stand alone.  This lab uses the primitive type double, but it also introduces the wrapper class Double.  Also included is the most common Data Structure in Java ArrayList."
   ]
  },
  {
   "cell_type": "code",
   "execution_count": 24,
   "metadata": {},
   "outputs": [
    {
     "name": "stdout",
     "output_type": "stream",
     "text": [
      "Enter a double, 0 to exit: 95.3\n",
      "Enter a double, 0 to exit: 87.3\n",
      "Enter a double, 0 to exit: 91.6\n",
      "Enter a double, 0 to exit: 77.7\n",
      "Enter a double, 0 to exit: 0.0\n",
      "Average: 87.98\n"
     ]
    }
   ],
   "source": [
    "public class GradeCalculator {\n",
    "    // introduction to Double wrapper class (object)\n",
    "    ArrayList<Double> grades;   // similar to Python list\n",
    "\n",
    "    // constructor, initializes ArrayList and call enterGrades method\n",
    "    public GradeCalculator() {\n",
    "        this.grades = new ArrayList<>();\n",
    "        this.enterGrades();\n",
    "    }\n",
    "\n",
    "    // double requires test for zero versus threshold, DO NOT compare to Zero\n",
    "    private boolean isZero(double value){\n",
    "        double threshold = 0.001;\n",
    "        return value >= -threshold && value <= threshold;\n",
    "    }\n",
    "\n",
    "\n",
    "    // enterGrades input method using scanner\n",
    "    private void enterGrades() {\n",
    "        Scanner input;\n",
    "\n",
    "        while (true) {\n",
    "            input = new Scanner(System.in);\n",
    "            System.out.print(\"Enter a double, 0 to exit: \");\n",
    "            try {\n",
    "                double sampleInputDouble = input.nextDouble();\n",
    "                System.out.println(sampleInputDouble);\n",
    "                if (isZero(sampleInputDouble)) break;       // exit loop on isZero\n",
    "                else this.grades.add(sampleInputDouble);    // adding to object, ArrayList grades\n",
    "            } catch (Exception e) {  // if not a number\n",
    "                System.out.println(\"Not an double (form like 9.99), \" + e);\n",
    "            }\n",
    "            input.close();\n",
    "        }\n",
    "    }\n",
    "\n",
    "    // average callculation \n",
    "    public double average() {\n",
    "        double total = 0;   // running total\n",
    "        for (double num : this.grades) {    // enhanced for loop\n",
    "            total += num;   // shortcut add and assing operator\n",
    "        }\n",
    "        return (total / this.grades.size());  // double math, ArrayList grades object maintains its size\n",
    "    }\n",
    "\n",
    "    // static main method, used as driver and tester\n",
    "    public static void main(String[] args) {\n",
    "        GradeCalculator grades = new GradeCalculator(); // calls constructur, creates object, which calls enterGrades\n",
    "        System.out.println(\"Average: \" + String.format(\"%.2f\", grades.average()));  // format used to standarize to two decimal points\n",
    "    }\n",
    "}\n",
    "// IJava activation\n",
    "GradeCalculator.main(null);"
   ]
  },
  {
   "cell_type": "markdown",
   "metadata": {},
   "source": [
    "## Hacks\n",
    "Build your own Jupyter Notebook.\n",
    "\n",
    "1. Multiple inputs and outputs are required\n",
    "2. Calculations are required\n",
    "3. Jupyter NoteBook with Outputs are required\n",
    "\n",
    "Calculator ideas: MPG, GPA, C <--> F, nth Fibonacci, GCD, Primes in range of numbers, Points per Game, Building something that helps you study for another class is encouraged."
   ]
  }
 ],
 "metadata": {
  "kernelspec": {
   "display_name": "Java",
   "language": "java",
   "name": "java"
  },
  "language_info": {
   "codemirror_mode": "java",
   "file_extension": ".jshell",
   "mimetype": "text/x-java-source",
   "name": "java",
   "pygments_lexer": "java",
   "version": "17.0.3+7"
  },
  "orig_nbformat": 4
 },
 "nbformat": 4,
 "nbformat_minor": 2
}
