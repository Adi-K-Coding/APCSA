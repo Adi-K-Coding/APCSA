{
 "cells": [
  {
   "cell_type": "markdown",
   "metadata": {},
   "source": [
    "# TPT Unit 02 - Using Objects\n",
    "Explain the relationship between a Class and an Object.  A Class is a template for an Object.  An Object is an instances of a Class. \n",
    "\n",
    "- title: Using Objects\n",
    "- toc: true\n",
    "- categories: [units]"
   ]
  },
  {
   "cell_type": "markdown",
   "metadata": {},
   "source": [
    "## [Drawing Lab](https://studycs.org/project/view/drawing)\n",
    "Swing Drawing Tools allow Java to provide a Graphical User Interface on the desktop."
   ]
  },
  {
   "cell_type": "code",
   "execution_count": 1,
   "metadata": {
    "vscode": {
     "languageId": "java"
    }
   },
   "outputs": [
    {
     "name": "stdout",
     "output_type": "stream",
     "text": [
      "Java Code Here\n"
     ]
    }
   ],
   "source": [
    "System.out.println(\"Java Code Here\")"
   ]
  },
  {
   "cell_type": "markdown",
   "metadata": {},
   "source": [
    "## Hacks\n",
    "Build your own Jupyter Notebook meeting these College Board and CTE competencies\n",
    "- Explain in Notebook cell where you are defining a Class.\n",
    "- Show in Notebook cell where you are making an instances of the Class\n",
    "    - Show in same Notebook cell where you are calling Methods\n",
    "    - Show in same Notebook cell where you are Mutating data\n",
    "- Repeat making an instance, calling methods, and mutating for a an Object created with a Constructor of a different signature.\n",
    "- Use Wrapper Classes Integer and Double for storing data in the class\n",
    "- Use the [Math Class](https://www.javatpoint.com/java-math) in performing calculations\n",
    "- In preparation for next unit, evaluate a Boolean expressions that uses a relational operators to branch code execution (ie if statement using ==)\n",
    "\n",
    "\n",
    "Additional requirements\n",
    "1. Adapt given Drawing Tool lab for your own solution of interest, this is great opportunity to visualize data from Math, Physics, or other class. \n",
    "2. \n",
    "3. "
   ]
  }
 ],
 "metadata": {
  "kernelspec": {
   "display_name": "Java",
   "language": "java",
   "name": "java"
  },
  "language_info": {
   "codemirror_mode": "java",
   "file_extension": ".jshell",
   "mimetype": "text/x-java-source",
   "name": "Java",
   "pygments_lexer": "java",
   "version": "17.0.3+7"
  },
  "orig_nbformat": 4
 },
 "nbformat": 4,
 "nbformat_minor": 2
}
