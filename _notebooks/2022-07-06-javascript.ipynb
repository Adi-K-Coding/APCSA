{
 "cells": [
  {
   "cell_type": "markdown",
   "metadata": {},
   "source": [
    "# PBL - JavaScript Hello World\n",
    "An introduction to JavaScript output, and functions.\n",
    "\n",
    "- title: JavaScript Hello World\n",
    "- toc: true\n",
    "- categories: [pbl]"
   ]
  },
  {
   "cell_type": "markdown",
   "metadata": {},
   "source": [
    "### JavaScript console log output command\n",
    "Output to console using the classic programming introduction using a \"Hello, World!\" message.     \n",
    "- The command or function is <mark>console.log()</mark>\n",
    "- \"Hello, World\" is a String literal. This is the referred to as <mark>Static text</mark>, as it does not change.\n",
    "- \"Hello, World\" is a parameter to the console.log command.\n",
    "- The console.log <mark>command outputs the parameter to the console</mark>, so you can see it in this Jupyter document.\n",
    "- Note, in a Web Application, console.log is used for debugging and is not visible from the browser via HTML.  It is used behind the scenes, when using inspect from the browser."
   ]
  },
  {
   "cell_type": "code",
   "execution_count": 2,
   "metadata": {},
   "outputs": [
    {
     "name": "stdout",
     "output_type": "stream",
     "text": [
      "Hello, World!\n"
     ]
    }
   ],
   "source": [
    "console.log(\"Hello, World!\");"
   ]
  },
  {
   "cell_type": "markdown",
   "metadata": {},
   "source": [
    "### Example showing use of variable\n",
    "This second example is a <mark>sequence of code</mark>, two or more lines forms a sequence.  This example takes defines a variable, then outputs the msg to terminal.  \n",
    "- The variable \"var msg =\" is used to capture the data\n",
    "- The console.log(msg) outputs "
   ]
  },
  {
   "cell_type": "code",
   "execution_count": 10,
   "metadata": {},
   "outputs": [
    {
     "name": "stdout",
     "output_type": "stream",
     "text": [
      "Hello, World!\n"
     ]
    }
   ],
   "source": [
    "var msg = \"Hello, World!\";\n",
    "console.log(msg);"
   ]
  },
  {
   "cell_type": "markdown",
   "metadata": {},
   "source": [
    "# Example showing use of a function\n",
    "This example passes the previously defined variable \"msg\" to the newly defined \"function logMessage()\".\n",
    "- There are two steps in the code, the definition of the function and the call to the function.\n",
    "    - \"function logMessage(msg) {}\" and everything between curl braces is the definitions\n",
    "    - \"logMessage(msg)\" is the call to the function, this actually activates the function.  If you remove this line you will not receive any output.\n",
    "- Since the variable \"msg\" was defined in previous cell, it is used a parameter when calling the logMessage function."
   ]
  },
  {
   "cell_type": "code",
   "execution_count": 12,
   "metadata": {},
   "outputs": [
    {
     "name": "stdout",
     "output_type": "stream",
     "text": [
      "Hello, World!\n"
     ]
    }
   ],
   "source": [
    "function logMessage(msg) {\n",
    "    console.log(msg);\n",
    "}\n",
    "logMessage(msg);"
   ]
  },
  {
   "cell_type": "markdown",
   "metadata": {},
   "source": [
    "# Another call to the function\n",
    "Now that a function is defined in the notebook, it can be called from any of the subsequent cells."
   ]
  },
  {
   "cell_type": "code",
   "execution_count": 13,
   "metadata": {},
   "outputs": [
    {
     "name": "stdout",
     "output_type": "stream",
     "text": [
      "Hello, Students!\n"
     ]
    }
   ],
   "source": [
    "logMessage(\"Hello, Students!\");"
   ]
  }
 ],
 "metadata": {
  "kernelspec": {
   "display_name": "JavaScript (Node.js)",
   "language": "javascript",
   "name": "javascript"
  },
  "language_info": {
   "file_extension": ".js",
   "mimetype": "application/javascript",
   "name": "javascript",
   "version": "16.13.0"
  },
  "orig_nbformat": 4
 },
 "nbformat": 4,
 "nbformat_minor": 2
}
