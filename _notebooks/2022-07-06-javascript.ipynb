{
 "cells": [
  {
   "cell_type": "markdown",
   "metadata": {},
   "source": [
    "# PBL - JavaScript Hello World\n",
    "An introduction to JavaScript output, and functions.\n",
    "\n",
    "- title: JavaScript Hello World\n",
    "- toc: true\n",
    "- categories: [pbl]"
   ]
  },
  {
   "cell_type": "markdown",
   "metadata": {},
   "source": [
    "### JavaScript console log output command\n",
    "Output to console using the classic programming introduction using a \"Hello, World!\" message.     \n",
    "- The command or function is <mark>console.log()</mark>\n",
    "- \"Hello, World\" is a String literal. This is the referred to as <mark>Static text</mark>, as it does not change.\n",
    "- \"Hello, World\" is a parameter to the console.log command.\n",
    "- The console.log <mark>command outputs the parameter to the console</mark>, so you can see it in this Jupyter document.\n",
    "- Note, in a Web Application, console.log is used for debugging and is not visible from the browser via HTML.  It is used behind the scenes, when using inspect from the browser."
   ]
  },
  {
   "cell_type": "code",
   "execution_count": 48,
   "metadata": {},
   "outputs": [
    {
     "name": "stdout",
     "output_type": "stream",
     "text": [
      "Hello, World!\n"
     ]
    }
   ],
   "source": [
    "console.log(\"Hello, World!\");"
   ]
  },
  {
   "cell_type": "markdown",
   "metadata": {},
   "source": [
    "### Example showing use of variable\n",
    "This second example is a <mark>sequence of code</mark>, two or more lines forms a sequence.  This example takes defines a variable, then outputs the msg to terminal.  \n",
    "- The variable \"var msg =\" is used to capture the data\n",
    "- The console.log(msg) outputs "
   ]
  },
  {
   "cell_type": "code",
   "execution_count": 49,
   "metadata": {},
   "outputs": [
    {
     "name": "stdout",
     "output_type": "stream",
     "text": [
      "Hello, World!\n"
     ]
    }
   ],
   "source": [
    "var msg = \"Hello, World!\";\n",
    "console.log(msg);"
   ]
  },
  {
   "cell_type": "markdown",
   "metadata": {},
   "source": [
    "# Example showing use of a function\n",
    "This example passes the previously defined variable \"msg\" to the newly defined \"function logIt(output)\".\n",
    "- There are two steps in the code, the definition of the function and the call to the function.\n",
    "    - \"function logIt(output) {}\" and everything between curly braces is the definitions of the function.\n",
    "    - \"logIt(msg)\" is the call to the function, this actually activates the function.  If you remove this line you will not receive any output to console.\n",
    "- Since the variable \"msg\" was defined in previous cell, it is used a parameter when calling the logMessage function."
   ]
  },
  {
   "cell_type": "code",
   "execution_count": 50,
   "metadata": {},
   "outputs": [
    {
     "name": "stdout",
     "output_type": "stream",
     "text": [
      "Hello, World!\n"
     ]
    }
   ],
   "source": [
    "function logIt(output) {\n",
    "    console.log(output);\n",
    "}\n",
    "logIt(msg);"
   ]
  },
  {
   "cell_type": "markdown",
   "metadata": {},
   "source": [
    "### Other calls to the function\n",
    "Now that a function is defined in the notebook, it can be called from any of the subsequent cells.\n",
    "- First call sends another string message\n",
    "- Second call sends a number, this is possible as the type (string, number) is not defined until the code is run."
   ]
  },
  {
   "cell_type": "code",
   "execution_count": 51,
   "metadata": {},
   "outputs": [
    {
     "name": "stdout",
     "output_type": "stream",
     "text": [
      "Hello, Students!\n",
      "2022\n"
     ]
    }
   ],
   "source": [
    "logIt(\"Hello, Students!\");\n",
    "logIt(2022)"
   ]
  },
  {
   "cell_type": "markdown",
   "metadata": {},
   "source": [
    "### Build a Person Function/Class object and JSON"
   ]
  },
  {
   "cell_type": "code",
   "execution_count": 52,
   "metadata": {},
   "outputs": [
    {
     "name": "stdout",
     "output_type": "stream",
     "text": [
      "Person { name: 'John Mortensen', ghID: 'jm1021' }\n",
      "{\"role\":\"Teacher\",\"name\":\"John Mortensen\",\"ghID\":\"jm1021\"}\n"
     ]
    }
   ],
   "source": [
    "// define a function to hold data for a Person\n",
    "function Person(name, ghID) {\n",
    "    this.name = name;\n",
    "    this.ghID = ghID;\n",
    "}\n",
    "\n",
    "// define a JSON conversion method associated with Person\n",
    "Person.prototype.toJSON = function(role) {\n",
    "    const obj = {role: role, name: this.name, ghID: this.ghID};\n",
    "    const json = JSON.stringify(obj);\n",
    "    return json;\n",
    "}\n",
    "\n",
    "// make a new Person and assign to variable teacher\n",
    "var teacher = new Person(\"John Mortensen\", \"jm1021\");\n",
    "\n",
    "// output of Object and JSON associated with Teacher\n",
    "console.log(teacher);\n",
    "console.log(teacher.toJSON(\"Teacher\"));\n",
    "\n"
   ]
  },
  {
   "cell_type": "markdown",
   "metadata": {},
   "source": [
    "### Build a Classroom Array/List of Persons and JSON"
   ]
  },
  {
   "cell_type": "code",
   "execution_count": 54,
   "metadata": {},
   "outputs": [
    {
     "name": "stdout",
     "output_type": "stream",
     "text": [
      "Classroom Object[0]] John Mortensen\n",
      "Classroom Objects [\n",
      "  Person { name: 'John Mortensen', ghID: 'jm1021' },\n",
      "  Person { name: 'Anthony', ghID: 'tonyhieu' },\n",
      "  Person { name: 'Bria', ghID: 'B-G101' },\n",
      "  Person { name: 'Allie', ghID: 'xiaoa0' },\n",
      "  Person { name: 'Tigran', ghID: 'Tigran7' }\n",
      "]\n",
      "Classroom JSON[0]] {\"name\":\"John Mortensen\",\"ghID\":\"jm1021\"}\n",
      "Classroom JSONs [\n",
      "  '{\"name\":\"John Mortensen\",\"ghID\":\"jm1021\"}',\n",
      "  '{\"name\":\"Anthony\",\"ghID\":\"tonyhieu\"}',\n",
      "  '{\"name\":\"Bria\",\"ghID\":\"B-G101\"}',\n",
      "  '{\"name\":\"Allie\",\"ghID\":\"xiaoa0\"}',\n",
      "  '{\"name\":\"Tigran\",\"ghID\":\"Tigran7\"}'\n",
      "]\n"
     ]
    }
   ],
   "source": [
    "// define a student Array of Person(s)\n",
    "var students = [ \n",
    "    new Person(\"Anthony\", \"tonyhieu\"),\n",
    "    new Person(\"Bria\", \"B-G101\"),\n",
    "    new Person(\"Allie\", \"xiaoa0\"),\n",
    "    new Person(\"Tigran\", \"Tigran7\") \n",
    "];\n",
    "\n",
    "// define a classroom and build Classroom objects and json\n",
    "function Classroom(teacher, students){ // 1 teacher, many student\n",
    "    this.teacher = teacher;\n",
    "    this.students = students;\n",
    "    this.classroom = [teacher];\n",
    "    this.students.forEach(student => this.classroom.push(student));\n",
    "    this.json = [];\n",
    "    this.classroom.forEach(person => this.json.push(person.toJSON()));\n",
    "}\n",
    "\n",
    "// make a CompSci classroom from formerly defined teacher and students\n",
    "compsci = new Classroom(teacher, students);  s\n",
    "\n",
    "// output of Objects and JSON in CompSci classroom\n",
    "console.log(\"Classroom Object[0]]\", compsci.classroom[0].name);\n",
    "console.log(\"Classroom Objects\", compsci.classroom);\n",
    "console.log(\"Classroom JSON[0]]\", compsci.json[0]);\n",
    "console.log(\"Classroom JSONs\", compsci.json);\n"
   ]
  }
 ],
 "metadata": {
  "kernelspec": {
   "display_name": "JavaScript (Node.js)",
   "language": "javascript",
   "name": "javascript"
  },
  "language_info": {
   "file_extension": ".js",
   "mimetype": "application/javascript",
   "name": "javascript",
   "version": "16.13.0"
  },
  "orig_nbformat": 4
 },
 "nbformat": 4,
 "nbformat_minor": 2
}
