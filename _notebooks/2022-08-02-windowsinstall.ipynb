{
 "cells": [
  {
   "cell_type": "markdown",
   "metadata": {},
   "source": [
    "# Installing Anaconda with Windows and WSL (Windows Subsystem for linux)\n",
    "> Guide to get Anaconda and Jupyter Notebooks to work with VS Code (specifically for java)\n",
    "- toc: true\n",
    "- layout: default\n",
    "- categories: [pbl]"
   ]
  },
  {
   "cell_type": "markdown",
   "metadata": {},
   "source": [
    "## Installing and Setting Up VS Code\n",
    "> Install VS Code to edit your code\n",
    "Navigate to [this site](https://code.visualstudio.com/download) and install VS Code for Windows.\n",
    "\n",
    "![image](https://raw.githubusercontent.com/nighthawkcoders/APCSA/master/images/vs_code_site.png)\n",
    "\n",
    "Once it's downloaded, navigate to the left sidebar and click Extensions. Download some necessary extensions:\n",
    "- Java extensions to debug Java (Maven, Project Manager, Debugger, Extension Pack, and Test Runner for Java by Microsoft are good options)\n",
    "- Jupyter notebook extensions (Jupyter, Jupyter Keymap, and Jupyter Notebook Renderers by Microsoft are good options)\n",
    "\n",
    "![image](https://raw.githubusercontent.com/nighthawkcoders/APCSA/master/images/extensions_windows_install.png)"
   ]
  },
  {
   "cell_type": "markdown",
   "metadata": {},
   "source": [
    "## Installing and Setting Up Anaconda\n",
    "> Installing Anaconda to configure Jupyter kernels. This section was used using Sahil's [Intro to Neo4J article](https://nighthawkcoders.github.io/APCSP/pbl/2022/07/21/neo4j_intro.html).\n",
    "\n",
    "Install Anaconda from their [website](https://www.anaconda.com/products/distribution). Follow the steps to install, and then open the Anaconda command prompt from your search bar.\n",
    "\n",
    "![image](https://raw.githubusercontent.com/nighthawkcoders/APCSA/master/images/anaconda_search.png)\n",
    "\n",
    "Run the following commands:"
   ]
  },
  {
   "cell_type": "code",
   "execution_count": null,
   "metadata": {
    "vscode": {
     "languageId": "shellscript"
    }
   },
   "outputs": [],
   "source": [
    "conda install jupyter\n",
    "jupyter notebook ."
   ]
  },
  {
   "cell_type": "markdown",
   "metadata": {},
   "source": [
    "A website should pop up in your browser which contains your file hierarchy. This is the Anaconda Jupyter Notebook editor! You can edit notebooks from here, but we'll using VS Code to edit notebooks instead."
   ]
  },
  {
   "cell_type": "markdown",
   "metadata": {},
   "source": [
    "## Installing IJava Kernel\n",
    "> To run Java on our notebooks, we need a Java kernel. Github user SpencerPark has created a Java kernel for us to use, as it notebooks do not support Java by default.\n",
    "\n",
    "Navigate to [SpencerPark's README](https://github.com/SpencerPark/IJava#installing) and follow the instructions to install IJava. I would recommend following the steps under **Install pre-built binary**.\n",
    "\n",
    "Ensure that running the command `jupyter kernelspec list` in your Anaconda prompt shows an output containing Java."
   ]
  },
  {
   "cell_type": "markdown",
   "metadata": {},
   "source": [
    "## Installing an Appropriate JDK for IJava\n",
    "> IJava requires a newer JDK, but some operating systems and Java downloads automatically come with JDK 8. This will help to make sure IJava works.\n",
    "\n",
    "Go to [this website](https://jdk.java.net/) and download the newest JDK. I downloaded the Windows/x64 build for JDK 18. Unzip the contents of the folder. Then, move the jdk folder from the extracted zip folder into C:/Program Files/Java. (Note: if you don't have Program Files/Java, then you'll need to download Java from Oracle or a different open source website)\n",
    "\n",
    "![image](https://raw.githubusercontent.com/nighthawkcoders/APCSA/master/images/move_jdk.png)\n",
    "\n",
    "Next, edit the kernel.json file that comes with IJava for it to use the newly downloaded JDK. Run `jupyter kernelspec list` in the Anaconda prompt to find where the kernel is located (in my case, it's C:\\Users\\amv76\\AppData\\Roaming\\jupyter\\kernels\\java). To access AppData, you can use Win + R and type in the command `%appdata%`. Open kernel.json (which might just be named kernel on your system) with VS Code. Replace the \"java\" argument with the path to your JDK, as seen below."
   ]
  },
  {
   "cell_type": "raw",
   "metadata": {},
   "source": [
    "{\n",
    "    \"argv\": [\n",
    "        \"java\", ----> \"C:\\\\Program Files\\\\Java\\\\jdk-18.0.2\\\\bin\\\\java.exe\",\n",
    "        \"-jar\",\n",
    "        \"C:\\\\Users\\\\amv76\\\\AppData\\\\Roaming\\\\jupyter\\\\kernels\\\\java/ijava-1.3.0.jar\",\n",
    "        \"{connection_file}\"\n",
    "    ],\n",
    "    \"display_name\": \"Java\",\n",
    "    \"env\": {},\n",
    "    \"interrupt_mode\": \"message\",\n",
    "    \"language\": \"java\"\n",
    "}"
   ]
  },
  {
   "cell_type": "markdown",
   "metadata": {},
   "source": [
    "Make sure to use two `\\\\` instead of one `\\`, as one `\\` is an escape character and will not work in file paths."
   ]
  },
  {
   "cell_type": "markdown",
   "metadata": {},
   "source": [
    "## Ending Checks and How to Run\n",
    "\n",
    "Congratulations! You should now be able to run Java on Jupter Notebooks. To use Java, create a new notebook and switch the language from Python to Java.\n",
    "\n",
    "![image](https://raw.githubusercontent.com/nighthawkcoders/APCSA/master/images/switch_language.png)"
   ]
  }
 ],
 "metadata": {
  "kernelspec": {
   "display_name": "Python 3.10.5 64-bit (windows store)",
   "language": "python",
   "name": "python3"
  },
  "language_info": {
   "name": "python",
   "version": "3.10.5"
  },
  "orig_nbformat": 4,
  "vscode": {
   "interpreter": {
    "hash": "a353d7e27fe9c8e5def102afe7b1f30da1e7b708cac20528f442b1c12ef1bafb"
   }
  }
 },
 "nbformat": 4,
 "nbformat_minor": 2
}
