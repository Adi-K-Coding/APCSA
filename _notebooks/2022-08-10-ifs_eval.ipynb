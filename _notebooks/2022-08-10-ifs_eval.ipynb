{
 "cells": [
  {
   "cell_type": "markdown",
   "metadata": {},
   "source": [
    "# TPT Unit 03 - Ifs and Expressions\n",
    "> Focus on Ifs, Switch, Expressions and how to build control structures in Java\n",
    "\n",
    "- title: Ifs and Evaluations\n",
    "- toc: true\n",
    "- comments: true\n",
    "- permalink: /units/3\n",
    "- categories: [units]"
   ]
  },
  {
   "cell_type": "markdown",
   "metadata": {},
   "source": [
    "## WIP Ifs and Condition\n",
    "Intro to Ifs: \n",
    "- [If and Conditions](https://www.youtube.com/watch?v=2rQmLwYVYpw) "
   ]
  },
  {
   "cell_type": "code",
   "execution_count": 3,
   "metadata": {
    "vscode": {
     "languageId": "java"
    }
   },
   "outputs": [
    {
     "name": "stdout",
     "output_type": "stream",
     "text": [
      "True Branch\n"
     ]
    }
   ],
   "source": [
    "if (true)\n",
    "    System.out.println(\"True Branch\");"
   ]
  }
 ],
 "metadata": {
  "kernelspec": {
   "display_name": "Java",
   "language": "java",
   "name": "java"
  },
  "language_info": {
   "codemirror_mode": "java",
   "file_extension": ".jshell",
   "mimetype": "text/x-java-source",
   "name": "Java",
   "pygments_lexer": "java",
   "version": "17.0.3+7"
  },
  "orig_nbformat": 4,
  "vscode": {
   "interpreter": {
    "hash": "8b82d5009c68ba5675978267e2b13a671f2a7143d61273c5a3813c97e0b2493d"
   }
  }
 },
 "nbformat": 4,
 "nbformat_minor": 2
}
